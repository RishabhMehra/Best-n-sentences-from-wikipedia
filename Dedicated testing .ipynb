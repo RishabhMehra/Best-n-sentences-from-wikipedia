{
 "cells": [
  {
   "cell_type": "code",
   "execution_count": 4,
   "metadata": {},
   "outputs": [
    {
     "name": "stderr",
     "output_type": "stream",
     "text": [
      "C:\\ProgramData\\Anaconda3\\lib\\site-packages\\gensim\\utils.py:1209: UserWarning: detected Windows; aliasing chunkize to chunkize_serial\n",
      "  warnings.warn(\"detected Windows; aliasing chunkize to chunkize_serial\")\n"
     ]
    }
   ],
   "source": [
    "import gensim, re\n",
    "import pandas as pd\n",
    "\n",
    "def tokenizer(input_string):\n",
    "    return re.findall(r\"[\\w']+\", input_string)"
   ]
  },
  {
   "cell_type": "code",
   "execution_count": 5,
   "metadata": {},
   "outputs": [
    {
     "data": {
      "text/plain": [
       "['hi', 'my', 'name', 'is', 'rishabh']"
      ]
     },
     "execution_count": 5,
     "metadata": {},
     "output_type": "execute_result"
    }
   ],
   "source": [
    "s='hi my name is rishabh'\n",
    "tokenizer(s)"
   ]
  },
  {
   "cell_type": "code",
   "execution_count": 32,
   "metadata": {},
   "outputs": [
    {
     "data": {
      "text/plain": [
       "[AnalyzedDocument(words=['my', 'college', 'is', 'under', 'mumbai', 'university'], tags=[0]),\n",
       " AnalyzedDocument(words=['the', 'university', 'has', 'a', 'huge', 'campus'], tags=[1]),\n",
       " AnalyzedDocument(words=['modi', 'is', 'great'], tags=[2])]"
      ]
     },
     "execution_count": 32,
     "metadata": {},
     "output_type": "execute_result"
    }
   ],
   "source": [
    "from gensim.models import doc2vec\n",
    "from collections import namedtuple\n",
    "\n",
    "# Load data\n",
    "\n",
    "doc1 = [\"My college is under Mumbai University\", \"The University has a huge campus\",\"Modi is great\"]\n",
    "\n",
    "# Transform data (you can add more data preprocessing steps) \n",
    "\n",
    "docs = []\n",
    "analyzedDocument = namedtuple('AnalyzedDocument', 'words tags')\n",
    "for i, text in enumerate(doc1):\n",
    "    words = text.lower().split()\n",
    "    tags = [i]\n",
    "    docs.append(analyzedDocument(words, tags))\n",
    "\n",
    "\n",
    "\n",
    "docs"
   ]
  },
  {
   "cell_type": "code",
   "execution_count": 33,
   "metadata": {},
   "outputs": [
    {
     "name": "stderr",
     "output_type": "stream",
     "text": [
      "C:\\ProgramData\\Anaconda3\\lib\\site-packages\\gensim\\models\\doc2vec.py:535: UserWarning: The parameter `size` is deprecated, will be removed in 4.0.0, use `vector_size` instead.\n",
      "  warnings.warn(\"The parameter `size` is deprecated, will be removed in 4.0.0, use `vector_size` instead.\")\n"
     ]
    }
   ],
   "source": [
    "# Train model (set min_count = 1, if you want the model to work with the provided example data set)\n",
    "\n",
    "model = doc2vec.Doc2Vec(docs, size = 100, window = 300, min_count = 1, workers = 4)\n",
    "\n",
    "# Get the vector"
   ]
  },
  {
   "cell_type": "code",
   "execution_count": 34,
   "metadata": {},
   "outputs": [
    {
     "data": {
      "text/plain": [
       "array([-1.6071775e-03,  3.4059538e-04,  3.4006513e-03, -3.9344230e-03,\n",
       "       -4.6204068e-03,  7.4027012e-05,  2.5561575e-03,  1.5809537e-03,\n",
       "       -4.2511458e-03,  7.9293194e-04,  3.8690609e-03, -1.0991879e-03,\n",
       "       -4.3594963e-03,  9.2050846e-04,  3.0272277e-03, -1.6349808e-03,\n",
       "        1.3448403e-03,  1.1974764e-03,  1.2476387e-03, -1.9454174e-03,\n",
       "        4.8174709e-03, -3.0062974e-03, -4.4643870e-03,  4.2015873e-03,\n",
       "        1.3117706e-03, -1.3972983e-03, -4.8108106e-03,  5.4700067e-05,\n",
       "       -2.1389031e-03,  1.6987198e-03,  1.3745404e-04,  1.4605514e-03,\n",
       "        2.3592296e-03, -3.7322734e-03, -2.2943495e-03,  4.6071783e-03,\n",
       "       -1.2141566e-03, -1.9880948e-03, -1.4943363e-03,  3.2411185e-03,\n",
       "        3.8073121e-03,  4.9416893e-03, -2.3932122e-03, -6.1269070e-04,\n",
       "        4.0023257e-03, -2.7757294e-03,  1.8125590e-03, -1.0506021e-03,\n",
       "        4.2090783e-04, -1.2770621e-03, -2.0067280e-03, -4.2212689e-03,\n",
       "        4.7749737e-03,  9.3428761e-04, -3.6874607e-03,  1.2410574e-03,\n",
       "        2.3320485e-03,  4.1772821e-03, -1.6144614e-03, -4.5935852e-03,\n",
       "       -3.2143935e-03, -3.1206142e-03, -4.5812843e-04, -3.7709265e-03,\n",
       "       -6.7708961e-04, -3.3533786e-04, -9.5889642e-04,  2.7571328e-03,\n",
       "       -4.7715865e-03,  4.4888589e-03, -4.0840292e-03, -3.4754674e-03,\n",
       "       -4.2104665e-03, -3.7835888e-03,  1.3360591e-03,  1.2500058e-03,\n",
       "        3.1094786e-03, -1.2461415e-03, -4.8501231e-04,  2.2159868e-03,\n",
       "        1.6213304e-03,  4.4081192e-03, -3.9714188e-04,  1.4725371e-03,\n",
       "       -1.2003962e-03, -1.1979709e-03, -1.7323612e-03, -1.6547496e-03,\n",
       "        1.1255465e-03,  3.0747268e-03,  4.7145486e-03,  4.3517570e-03,\n",
       "        1.6681363e-03, -3.4908100e-03,  3.2710705e-03, -2.5205806e-04,\n",
       "       -2.2312191e-03, -1.5373379e-03, -1.1517482e-04, -4.0985285e-03],\n",
       "      dtype=float32)"
      ]
     },
     "execution_count": 34,
     "metadata": {},
     "output_type": "execute_result"
    }
   ],
   "source": [
    "model.docvecs[0]\n"
   ]
  },
  {
   "cell_type": "code",
   "execution_count": 35,
   "metadata": {},
   "outputs": [
    {
     "data": {
      "text/plain": [
       "array([ 1.1830445e-03,  2.3972797e-03, -2.9787128e-03,  6.1064516e-04,\n",
       "        3.7392683e-03, -3.0530544e-03, -4.4689645e-04,  4.1162353e-03,\n",
       "        8.9303195e-04,  3.6037385e-03,  4.4180155e-03, -7.3792908e-05,\n",
       "       -1.4617440e-03,  2.8255284e-03,  2.7746935e-03, -4.2322758e-03,\n",
       "        2.8152529e-03, -4.3020947e-03, -2.0259189e-04, -4.8115011e-03,\n",
       "        4.9833595e-03, -4.9746018e-03, -1.2298190e-03,  4.6815418e-04,\n",
       "        1.4227370e-03, -3.4061042e-03, -2.3409461e-03, -3.0260244e-03,\n",
       "        3.5305920e-03,  4.4116168e-03, -1.4122201e-03, -3.0316010e-03,\n",
       "        8.7956176e-04,  3.7406897e-03, -1.8272436e-03,  1.3375748e-03,\n",
       "       -4.5896862e-03, -3.6984705e-04, -1.5172634e-03, -1.6275287e-03,\n",
       "        2.4507579e-03,  4.1561751e-03, -9.1968745e-04, -3.8497178e-03,\n",
       "        1.4455717e-03,  4.4940258e-03,  1.9129412e-03, -2.2298822e-03,\n",
       "        2.0131674e-03, -4.2825155e-03,  1.6719900e-03, -2.3731559e-03,\n",
       "       -3.8428768e-03, -3.0768102e-03,  2.8112321e-03,  3.0930792e-03,\n",
       "       -4.8741060e-03, -1.8404169e-03, -3.6093998e-03,  1.0703561e-03,\n",
       "       -2.8568754e-04, -1.0808870e-03, -8.4567786e-04,  5.2118202e-04,\n",
       "        1.7335964e-03,  4.5049679e-03,  2.6735999e-03,  3.5687035e-03,\n",
       "       -3.0961877e-03, -4.3138932e-03, -1.8868176e-03, -4.1765841e-03,\n",
       "       -1.3340262e-03,  1.9015702e-03,  3.3413952e-03, -3.9592101e-03,\n",
       "        1.1899776e-03, -4.8297951e-03,  4.7922619e-03,  3.6017073e-04,\n",
       "        2.8255174e-03, -3.1994113e-03, -1.8546263e-03,  2.5376077e-03,\n",
       "       -1.7629941e-03,  1.6433236e-03, -3.7100404e-03, -3.2705572e-03,\n",
       "        3.2761476e-03, -1.0887759e-03, -3.2934237e-03,  3.0208067e-03,\n",
       "       -4.1607581e-03, -3.8794631e-03, -1.9336469e-04,  1.6935747e-03,\n",
       "        4.0885936e-03, -4.4410983e-03, -4.2395480e-04, -2.6157689e-03],\n",
       "      dtype=float32)"
      ]
     },
     "execution_count": 35,
     "metadata": {},
     "output_type": "execute_result"
    }
   ],
   "source": [
    "\n",
    "model.docvecs[1]"
   ]
  },
  {
   "cell_type": "code",
   "execution_count": 36,
   "metadata": {},
   "outputs": [
    {
     "name": "stderr",
     "output_type": "stream",
     "text": [
      "C:\\ProgramData\\Anaconda3\\lib\\site-packages\\gensim\\matutils.py:737: FutureWarning: Conversion of the second argument of issubdtype from `int` to `np.signedinteger` is deprecated. In future, it will be treated as `np.int32 == np.dtype(int).type`.\n",
      "  if np.issubdtype(vec.dtype, np.int):\n"
     ]
    }
   ],
   "source": [
    "tokens = \"Prime Minister of India\".split()\n",
    "\n",
    "new_vector = model.infer_vector(tokens)\n",
    "sims = model.docvecs.most_similar([new_vector]) "
   ]
  },
  {
   "cell_type": "code",
   "execution_count": 54,
   "metadata": {},
   "outputs": [
    {
     "data": {
      "text/plain": [
       "[(1, 0.09138806909322739), (2, 0.07541312277317047), (0, 0.019218754023313522)]"
      ]
     },
     "execution_count": 54,
     "metadata": {},
     "output_type": "execute_result"
    }
   ],
   "source": [
    "list(sims)"
   ]
  },
  {
   "cell_type": "code",
   "execution_count": 55,
   "metadata": {},
   "outputs": [
    {
     "data": {
      "text/plain": [
       "(2, 0.07541312277317047)"
      ]
     },
     "execution_count": 55,
     "metadata": {},
     "output_type": "execute_result"
    }
   ],
   "source": [
    "sims[1]"
   ]
  },
  {
   "cell_type": "code",
   "execution_count": 56,
   "metadata": {},
   "outputs": [
    {
     "data": {
      "text/plain": [
       "1"
      ]
     },
     "execution_count": 56,
     "metadata": {},
     "output_type": "execute_result"
    }
   ],
   "source": [
    "sims[0][0]"
   ]
  },
  {
   "cell_type": "code",
   "execution_count": 57,
   "metadata": {},
   "outputs": [],
   "source": [
    "h=sims[0][0]"
   ]
  },
  {
   "cell_type": "code",
   "execution_count": 58,
   "metadata": {},
   "outputs": [
    {
     "data": {
      "text/plain": [
       "1"
      ]
     },
     "execution_count": 58,
     "metadata": {},
     "output_type": "execute_result"
    }
   ],
   "source": [
    "h\n"
   ]
  },
  {
   "cell_type": "code",
   "execution_count": 59,
   "metadata": {},
   "outputs": [],
   "source": [
    "h=list()\n",
    "\n",
    "h=sims"
   ]
  },
  {
   "cell_type": "code",
   "execution_count": 60,
   "metadata": {},
   "outputs": [
    {
     "data": {
      "text/plain": [
       "[(1, 0.09138806909322739), (2, 0.07541312277317047), (0, 0.019218754023313522)]"
      ]
     },
     "execution_count": 60,
     "metadata": {},
     "output_type": "execute_result"
    }
   ],
   "source": [
    "h"
   ]
  },
  {
   "cell_type": "code",
   "execution_count": 61,
   "metadata": {},
   "outputs": [
    {
     "data": {
      "text/plain": [
       "(1, 0.09138806909322739)"
      ]
     },
     "execution_count": 61,
     "metadata": {},
     "output_type": "execute_result"
    }
   ],
   "source": [
    "h[0]"
   ]
  },
  {
   "cell_type": "code",
   "execution_count": 62,
   "metadata": {},
   "outputs": [
    {
     "data": {
      "text/plain": [
       "list"
      ]
     },
     "execution_count": 62,
     "metadata": {},
     "output_type": "execute_result"
    }
   ],
   "source": [
    "type(sims)"
   ]
  },
  {
   "cell_type": "code",
   "execution_count": 63,
   "metadata": {},
   "outputs": [
    {
     "ename": "AttributeError",
     "evalue": "'list' object has no attribute 'group'",
     "output_type": "error",
     "traceback": [
      "\u001b[1;31m---------------------------------------------------------------------------\u001b[0m",
      "\u001b[1;31mAttributeError\u001b[0m                            Traceback (most recent call last)",
      "\u001b[1;32m<ipython-input-63-6449543c94ff>\u001b[0m in \u001b[0;36m<module>\u001b[1;34m()\u001b[0m\n\u001b[1;32m----> 1\u001b[1;33m \u001b[0msims\u001b[0m\u001b[1;33m.\u001b[0m\u001b[0mgroup\u001b[0m\u001b[1;33m(\u001b[0m\u001b[1;36m0\u001b[0m\u001b[1;33m)\u001b[0m\u001b[1;33m\u001b[0m\u001b[0m\n\u001b[0m",
      "\u001b[1;31mAttributeError\u001b[0m: 'list' object has no attribute 'group'"
     ]
    }
   ],
   "source": [
    "sims.group(0)"
   ]
  },
  {
   "cell_type": "code",
   "execution_count": 64,
   "metadata": {},
   "outputs": [],
   "source": [
    "ndf=pd.DataFrame({'Rank':sims})"
   ]
  },
  {
   "cell_type": "code",
   "execution_count": 65,
   "metadata": {},
   "outputs": [
    {
     "data": {
      "text/html": [
       "<div>\n",
       "<style scoped>\n",
       "    .dataframe tbody tr th:only-of-type {\n",
       "        vertical-align: middle;\n",
       "    }\n",
       "\n",
       "    .dataframe tbody tr th {\n",
       "        vertical-align: top;\n",
       "    }\n",
       "\n",
       "    .dataframe thead th {\n",
       "        text-align: right;\n",
       "    }\n",
       "</style>\n",
       "<table border=\"1\" class=\"dataframe\">\n",
       "  <thead>\n",
       "    <tr style=\"text-align: right;\">\n",
       "      <th></th>\n",
       "      <th>Rank</th>\n",
       "    </tr>\n",
       "  </thead>\n",
       "  <tbody>\n",
       "    <tr>\n",
       "      <th>0</th>\n",
       "      <td>(1, 0.09138806909322739)</td>\n",
       "    </tr>\n",
       "    <tr>\n",
       "      <th>1</th>\n",
       "      <td>(2, 0.07541312277317047)</td>\n",
       "    </tr>\n",
       "    <tr>\n",
       "      <th>2</th>\n",
       "      <td>(0, 0.019218754023313522)</td>\n",
       "    </tr>\n",
       "  </tbody>\n",
       "</table>\n",
       "</div>"
      ],
      "text/plain": [
       "                        Rank\n",
       "0   (1, 0.09138806909322739)\n",
       "1   (2, 0.07541312277317047)\n",
       "2  (0, 0.019218754023313522)"
      ]
     },
     "execution_count": 65,
     "metadata": {},
     "output_type": "execute_result"
    }
   ],
   "source": [
    "ndf"
   ]
  },
  {
   "cell_type": "code",
   "execution_count": 68,
   "metadata": {},
   "outputs": [],
   "source": [
    "h=[i[0] for i in sims]"
   ]
  },
  {
   "cell_type": "code",
   "execution_count": 69,
   "metadata": {},
   "outputs": [
    {
     "data": {
      "text/plain": [
       "[1, 2, 0]"
      ]
     },
     "execution_count": 69,
     "metadata": {},
     "output_type": "execute_result"
    }
   ],
   "source": [
    "h"
   ]
  },
  {
   "cell_type": "code",
   "execution_count": 74,
   "metadata": {},
   "outputs": [],
   "source": [
    "ndf=pd.DataFrame({'Sentence':doc1})\n",
    "\n"
   ]
  },
  {
   "cell_type": "code",
   "execution_count": 76,
   "metadata": {},
   "outputs": [],
   "source": [
    "ndf['Rank']=h"
   ]
  },
  {
   "cell_type": "code",
   "execution_count": 77,
   "metadata": {},
   "outputs": [
    {
     "data": {
      "text/html": [
       "<div>\n",
       "<style scoped>\n",
       "    .dataframe tbody tr th:only-of-type {\n",
       "        vertical-align: middle;\n",
       "    }\n",
       "\n",
       "    .dataframe tbody tr th {\n",
       "        vertical-align: top;\n",
       "    }\n",
       "\n",
       "    .dataframe thead th {\n",
       "        text-align: right;\n",
       "    }\n",
       "</style>\n",
       "<table border=\"1\" class=\"dataframe\">\n",
       "  <thead>\n",
       "    <tr style=\"text-align: right;\">\n",
       "      <th></th>\n",
       "      <th>Sentence</th>\n",
       "      <th>Rank</th>\n",
       "    </tr>\n",
       "  </thead>\n",
       "  <tbody>\n",
       "    <tr>\n",
       "      <th>0</th>\n",
       "      <td>My college is under Mumbai University</td>\n",
       "      <td>1</td>\n",
       "    </tr>\n",
       "    <tr>\n",
       "      <th>1</th>\n",
       "      <td>The University has a huge campus</td>\n",
       "      <td>2</td>\n",
       "    </tr>\n",
       "    <tr>\n",
       "      <th>2</th>\n",
       "      <td>Modi is great</td>\n",
       "      <td>0</td>\n",
       "    </tr>\n",
       "  </tbody>\n",
       "</table>\n",
       "</div>"
      ],
      "text/plain": [
       "                                Sentence  Rank\n",
       "0  My college is under Mumbai University     1\n",
       "1       The University has a huge campus     2\n",
       "2                          Modi is great     0"
      ]
     },
     "execution_count": 77,
     "metadata": {},
     "output_type": "execute_result"
    }
   ],
   "source": [
    "ndf"
   ]
  },
  {
   "cell_type": "code",
   "execution_count": 78,
   "metadata": {},
   "outputs": [],
   "source": [
    "year=['1995','1992','1996']\n",
    "ndf['Year']=year"
   ]
  },
  {
   "cell_type": "code",
   "execution_count": 79,
   "metadata": {},
   "outputs": [
    {
     "data": {
      "text/html": [
       "<div>\n",
       "<style scoped>\n",
       "    .dataframe tbody tr th:only-of-type {\n",
       "        vertical-align: middle;\n",
       "    }\n",
       "\n",
       "    .dataframe tbody tr th {\n",
       "        vertical-align: top;\n",
       "    }\n",
       "\n",
       "    .dataframe thead th {\n",
       "        text-align: right;\n",
       "    }\n",
       "</style>\n",
       "<table border=\"1\" class=\"dataframe\">\n",
       "  <thead>\n",
       "    <tr style=\"text-align: right;\">\n",
       "      <th></th>\n",
       "      <th>Sentence</th>\n",
       "      <th>Rank</th>\n",
       "      <th>Year</th>\n",
       "    </tr>\n",
       "  </thead>\n",
       "  <tbody>\n",
       "    <tr>\n",
       "      <th>0</th>\n",
       "      <td>My college is under Mumbai University</td>\n",
       "      <td>1</td>\n",
       "      <td>1995</td>\n",
       "    </tr>\n",
       "    <tr>\n",
       "      <th>1</th>\n",
       "      <td>The University has a huge campus</td>\n",
       "      <td>2</td>\n",
       "      <td>1992</td>\n",
       "    </tr>\n",
       "    <tr>\n",
       "      <th>2</th>\n",
       "      <td>Modi is great</td>\n",
       "      <td>0</td>\n",
       "      <td>1996</td>\n",
       "    </tr>\n",
       "  </tbody>\n",
       "</table>\n",
       "</div>"
      ],
      "text/plain": [
       "                                Sentence  Rank  Year\n",
       "0  My college is under Mumbai University     1  1995\n",
       "1       The University has a huge campus     2  1992\n",
       "2                          Modi is great     0  1996"
      ]
     },
     "execution_count": 79,
     "metadata": {},
     "output_type": "execute_result"
    }
   ],
   "source": [
    "ndf"
   ]
  },
  {
   "cell_type": "code",
   "execution_count": 85,
   "metadata": {},
   "outputs": [
    {
     "data": {
      "text/html": [
       "<div>\n",
       "<style scoped>\n",
       "    .dataframe tbody tr th:only-of-type {\n",
       "        vertical-align: middle;\n",
       "    }\n",
       "\n",
       "    .dataframe tbody tr th {\n",
       "        vertical-align: top;\n",
       "    }\n",
       "\n",
       "    .dataframe thead th {\n",
       "        text-align: right;\n",
       "    }\n",
       "</style>\n",
       "<table border=\"1\" class=\"dataframe\">\n",
       "  <thead>\n",
       "    <tr style=\"text-align: right;\">\n",
       "      <th></th>\n",
       "      <th>Sentence</th>\n",
       "      <th>Rank</th>\n",
       "      <th>Year</th>\n",
       "    </tr>\n",
       "  </thead>\n",
       "  <tbody>\n",
       "    <tr>\n",
       "      <th>1995</th>\n",
       "      <td>NaN</td>\n",
       "      <td>NaN</td>\n",
       "      <td>NaN</td>\n",
       "    </tr>\n",
       "    <tr>\n",
       "      <th>1992</th>\n",
       "      <td>NaN</td>\n",
       "      <td>NaN</td>\n",
       "      <td>NaN</td>\n",
       "    </tr>\n",
       "    <tr>\n",
       "      <th>1996</th>\n",
       "      <td>NaN</td>\n",
       "      <td>NaN</td>\n",
       "      <td>NaN</td>\n",
       "    </tr>\n",
       "  </tbody>\n",
       "</table>\n",
       "</div>"
      ],
      "text/plain": [
       "     Sentence  Rank Year\n",
       "1995      NaN   NaN  NaN\n",
       "1992      NaN   NaN  NaN\n",
       "1996      NaN   NaN  NaN"
      ]
     },
     "execution_count": 85,
     "metadata": {},
     "output_type": "execute_result"
    }
   ],
   "source": [
    "ndf.reindex(year)"
   ]
  },
  {
   "cell_type": "code",
   "execution_count": 86,
   "metadata": {},
   "outputs": [
    {
     "data": {
      "text/html": [
       "<div>\n",
       "<style scoped>\n",
       "    .dataframe tbody tr th:only-of-type {\n",
       "        vertical-align: middle;\n",
       "    }\n",
       "\n",
       "    .dataframe tbody tr th {\n",
       "        vertical-align: top;\n",
       "    }\n",
       "\n",
       "    .dataframe thead th {\n",
       "        text-align: right;\n",
       "    }\n",
       "</style>\n",
       "<table border=\"1\" class=\"dataframe\">\n",
       "  <thead>\n",
       "    <tr style=\"text-align: right;\">\n",
       "      <th></th>\n",
       "      <th>Sentence</th>\n",
       "      <th>Rank</th>\n",
       "      <th>Year</th>\n",
       "    </tr>\n",
       "  </thead>\n",
       "  <tbody>\n",
       "    <tr>\n",
       "      <th>0</th>\n",
       "      <td>My college is under Mumbai University</td>\n",
       "      <td>1</td>\n",
       "      <td>1995</td>\n",
       "    </tr>\n",
       "    <tr>\n",
       "      <th>1</th>\n",
       "      <td>The University has a huge campus</td>\n",
       "      <td>2</td>\n",
       "      <td>1992</td>\n",
       "    </tr>\n",
       "    <tr>\n",
       "      <th>2</th>\n",
       "      <td>Modi is great</td>\n",
       "      <td>0</td>\n",
       "      <td>1996</td>\n",
       "    </tr>\n",
       "  </tbody>\n",
       "</table>\n",
       "</div>"
      ],
      "text/plain": [
       "                                Sentence  Rank  Year\n",
       "0  My college is under Mumbai University     1  1995\n",
       "1       The University has a huge campus     2  1992\n",
       "2                          Modi is great     0  1996"
      ]
     },
     "execution_count": 86,
     "metadata": {},
     "output_type": "execute_result"
    }
   ],
   "source": [
    "ndf"
   ]
  },
  {
   "cell_type": "code",
   "execution_count": 87,
   "metadata": {},
   "outputs": [
    {
     "name": "stdout",
     "output_type": "stream",
     "text": [
      "2\n"
     ]
    }
   ],
   "source": [
    "n =input()"
   ]
  },
  {
   "cell_type": "code",
   "execution_count": 100,
   "metadata": {},
   "outputs": [
    {
     "name": "stdout",
     "output_type": "stream",
     "text": [
      "1995 : My college is under Mumbai University\n",
      "1996 : Modi is great\n"
     ]
    }
   ],
   "source": [
    "nbs=list()\n",
    "ny=list()\n",
    "for index, row in ndf.iterrows():\n",
    "    if row['Rank'] < int(n):\n",
    "        print (row['Year'],':', row['Sentence'])\n",
    "        nbs.append(row['Sentence'])\n",
    "        ny.append(row['Year'])"
   ]
  },
  {
   "cell_type": "code",
   "execution_count": 94,
   "metadata": {},
   "outputs": [
    {
     "data": {
      "text/plain": [
       "['My college is under Mumbai University', 'Modi is great']"
      ]
     },
     "execution_count": 94,
     "metadata": {},
     "output_type": "execute_result"
    }
   ],
   "source": [
    "nbs"
   ]
  },
  {
   "cell_type": "code",
   "execution_count": 96,
   "metadata": {},
   "outputs": [
    {
     "data": {
      "text/plain": [
       "['1995', '1996']"
      ]
     },
     "execution_count": 96,
     "metadata": {},
     "output_type": "execute_result"
    }
   ],
   "source": [
    "ny"
   ]
  },
  {
   "cell_type": "code",
   "execution_count": 101,
   "metadata": {},
   "outputs": [
    {
     "name": "stdout",
     "output_type": "stream",
     "text": [
      "[nltk_data] Downloading package punkt to C:\\Users\\Rishabh\n",
      "[nltk_data]     Mehra\\AppData\\Roaming\\nltk_data...\n",
      "[nltk_data]   Package punkt is already up-to-date!\n"
     ]
    },
    {
     "data": {
      "text/plain": [
       "True"
      ]
     },
     "execution_count": 101,
     "metadata": {},
     "output_type": "execute_result"
    }
   ],
   "source": [
    "import nltk\n",
    "nltk.download('punkt')"
   ]
  },
  {
   "cell_type": "code",
   "execution_count": 104,
   "metadata": {},
   "outputs": [
    {
     "ename": "ModuleNotFoundError",
     "evalue": "No module named 'torch'",
     "output_type": "error",
     "traceback": [
      "\u001b[1;31m---------------------------------------------------------------------------\u001b[0m",
      "\u001b[1;31mModuleNotFoundError\u001b[0m                       Traceback (most recent call last)",
      "\u001b[1;32m<ipython-input-104-cf942f350041>\u001b[0m in \u001b[0;36m<module>\u001b[1;34m()\u001b[0m\n\u001b[1;32m----> 1\u001b[1;33m \u001b[1;32mfrom\u001b[0m \u001b[0mmodels\u001b[0m \u001b[1;32mimport\u001b[0m \u001b[0mInferSent\u001b[0m\u001b[1;33m\u001b[0m\u001b[0m\n\u001b[0m\u001b[0;32m      2\u001b[0m \u001b[0mV\u001b[0m \u001b[1;33m=\u001b[0m \u001b[1;36m2\u001b[0m\u001b[1;33m\u001b[0m\u001b[0m\n\u001b[0;32m      3\u001b[0m \u001b[0mMODEL_PATH\u001b[0m \u001b[1;33m=\u001b[0m \u001b[1;34m'infersent2.pkl'\u001b[0m \u001b[1;33m%\u001b[0m \u001b[0mV\u001b[0m\u001b[1;33m\u001b[0m\u001b[0m\n\u001b[0;32m      4\u001b[0m params_model = {'bsize': 64, 'word_emb_dim': 300, 'enc_lstm_dim': 2048,\n\u001b[0;32m      5\u001b[0m                 'pool_type': 'max', 'dpout_model': 0.0, 'version': V}\n",
      "\u001b[1;32m~\\Desktop\\Projects\\Untitled Folder 1\\models.py\u001b[0m in \u001b[0;36m<module>\u001b[1;34m()\u001b[0m\n\u001b[0;32m     13\u001b[0m \u001b[1;32mimport\u001b[0m \u001b[0mtime\u001b[0m\u001b[1;33m\u001b[0m\u001b[0m\n\u001b[0;32m     14\u001b[0m \u001b[1;33m\u001b[0m\u001b[0m\n\u001b[1;32m---> 15\u001b[1;33m \u001b[1;32mimport\u001b[0m \u001b[0mtorch\u001b[0m\u001b[1;33m\u001b[0m\u001b[0m\n\u001b[0m\u001b[0;32m     16\u001b[0m \u001b[1;32mfrom\u001b[0m \u001b[0mtorch\u001b[0m\u001b[1;33m.\u001b[0m\u001b[0mautograd\u001b[0m \u001b[1;32mimport\u001b[0m \u001b[0mVariable\u001b[0m\u001b[1;33m\u001b[0m\u001b[0m\n\u001b[0;32m     17\u001b[0m \u001b[1;32mimport\u001b[0m \u001b[0mtorch\u001b[0m\u001b[1;33m.\u001b[0m\u001b[0mnn\u001b[0m \u001b[1;32mas\u001b[0m \u001b[0mnn\u001b[0m\u001b[1;33m\u001b[0m\u001b[0m\n",
      "\u001b[1;31mModuleNotFoundError\u001b[0m: No module named 'torch'"
     ]
    }
   ],
   "source": [
    "from models import InferSent\n",
    "V = 2\n",
    "MODEL_PATH = 'infersent2.pkl' % V\n",
    "params_model = {'bsize': 64, 'word_emb_dim': 300, 'enc_lstm_dim': 2048,\n",
    "                'pool_type': 'max', 'dpout_model': 0.0, 'version': V}\n",
    "infersent = InferSent(params_model)\n",
    "infersent.load_state_dict(torch.load(MODEL_PATH))"
   ]
  },
  {
   "cell_type": "code",
   "execution_count": 106,
   "metadata": {},
   "outputs": [
    {
     "ename": "NameError",
     "evalue": "name 'hub' is not defined",
     "output_type": "error",
     "traceback": [
      "\u001b[1;31m---------------------------------------------------------------------------\u001b[0m",
      "\u001b[1;31mNameError\u001b[0m                                 Traceback (most recent call last)",
      "\u001b[1;32m<ipython-input-106-589c5618e199>\u001b[0m in \u001b[0;36m<module>\u001b[1;34m()\u001b[0m\n\u001b[1;32m----> 1\u001b[1;33m \u001b[0membed\u001b[0m \u001b[1;33m=\u001b[0m \u001b[0mhub\u001b[0m\u001b[1;33m.\u001b[0m\u001b[0mModule\u001b[0m\u001b[1;33m(\u001b[0m\u001b[1;34m\"https://tfhub.dev/google/universal-sentence-encoder/1\"\u001b[0m\u001b[1;33m)\u001b[0m\u001b[1;33m\u001b[0m\u001b[0m\n\u001b[0m\u001b[0;32m      2\u001b[0m embeddings = embed([\n\u001b[0;32m      3\u001b[0m     \u001b[1;34m\"The quick brown fox jumps over the lazy dog.\"\u001b[0m\u001b[1;33m,\u001b[0m\u001b[1;33m\u001b[0m\u001b[0m\n\u001b[0;32m      4\u001b[0m     \"I am a sentence for which I would like to get its embedding\"])\n\u001b[0;32m      5\u001b[0m \u001b[1;33m\u001b[0m\u001b[0m\n",
      "\u001b[1;31mNameError\u001b[0m: name 'hub' is not defined"
     ]
    }
   ],
   "source": [
    "embed = hub.Module(\"https://tfhub.dev/google/universal-sentence-encoder/1\")\n",
    "embeddings = embed([\n",
    "    \"The quick brown fox jumps over the lazy dog.\",\n",
    "    \"I am a sentence for which I would like to get its embedding\"])\n",
    "\n",
    "print (session.run(embeddings))"
   ]
  },
  {
   "cell_type": "code",
   "execution_count": 107,
   "metadata": {},
   "outputs": [],
   "source": [
    "import itertools"
   ]
  },
  {
   "cell_type": "code",
   "execution_count": 108,
   "metadata": {},
   "outputs": [],
   "source": [
    "from gensim.models.word2vec import Text8Corpus"
   ]
  },
  {
   "cell_type": "code",
   "execution_count": 109,
   "metadata": {},
   "outputs": [
    {
     "ename": "ModuleNotFoundError",
     "evalue": "No module named 'glove'",
     "output_type": "error",
     "traceback": [
      "\u001b[1;31m---------------------------------------------------------------------------\u001b[0m",
      "\u001b[1;31mModuleNotFoundError\u001b[0m                       Traceback (most recent call last)",
      "\u001b[1;32m<ipython-input-109-8ac6489338c9>\u001b[0m in \u001b[0;36m<module>\u001b[1;34m()\u001b[0m\n\u001b[1;32m----> 1\u001b[1;33m \u001b[1;32mfrom\u001b[0m \u001b[0mglove\u001b[0m \u001b[1;32mimport\u001b[0m \u001b[0mCorpus\u001b[0m\u001b[1;33m,\u001b[0m \u001b[0mGlove\u001b[0m\u001b[1;33m\u001b[0m\u001b[0m\n\u001b[0m",
      "\u001b[1;31mModuleNotFoundError\u001b[0m: No module named 'glove'"
     ]
    }
   ],
   "source": [
    "from glove import Corpus, Glove"
   ]
  },
  {
   "cell_type": "code",
   "execution_count": 111,
   "metadata": {},
   "outputs": [
    {
     "data": {
      "text/plain": [
       "<gensim.models.keyedvectors.Doc2VecKeyedVectors at 0x18ce601d978>"
      ]
     },
     "execution_count": 111,
     "metadata": {},
     "output_type": "execute_result"
    }
   ],
   "source": [
    "l=model.docvecs[]"
   ]
  },
  {
   "cell_type": "code",
   "execution_count": 112,
   "metadata": {},
   "outputs": [],
   "source": [
    "bdocs = []\n",
    "analyzedDocument = namedtuple('AnalyzedDocument', 'words tags')\n",
    "for i, text in enumerate(nbs):\n",
    "    words = text.lower().split()\n",
    "    tags = [i]\n",
    "    bdocs.append(analyzedDocument(words, tags))"
   ]
  },
  {
   "cell_type": "code",
   "execution_count": 113,
   "metadata": {},
   "outputs": [
    {
     "name": "stderr",
     "output_type": "stream",
     "text": [
      "C:\\ProgramData\\Anaconda3\\lib\\site-packages\\gensim\\models\\doc2vec.py:535: UserWarning: The parameter `size` is deprecated, will be removed in 4.0.0, use `vector_size` instead.\n",
      "  warnings.warn(\"The parameter `size` is deprecated, will be removed in 4.0.0, use `vector_size` instead.\")\n"
     ]
    }
   ],
   "source": [
    "bmodel = doc2vec.Doc2Vec(bdocs, size = 100, window = 300, min_count = 1, workers = 4)"
   ]
  },
  {
   "cell_type": "code",
   "execution_count": 131,
   "metadata": {},
   "outputs": [
    {
     "name": "stdout",
     "output_type": "stream",
     "text": [
      "1995 : My college is under Mumbai University\n",
      "[-1.6080047e-03  3.3911175e-04  3.3991777e-03 -3.9334521e-03\n",
      " -4.6206149e-03  7.2220319e-05  2.5556362e-03  1.5799694e-03\n",
      " -4.2489935e-03  7.9353165e-04  3.8669761e-03 -1.0998786e-03\n",
      " -4.3595349e-03  9.2203898e-04  3.0275281e-03 -1.6340442e-03\n",
      "  1.3446825e-03  1.1958290e-03  1.2486762e-03 -1.9457645e-03\n",
      "  4.8162094e-03 -3.0071819e-03 -4.4635902e-03  4.1997000e-03\n",
      "  1.3109164e-03 -1.3955947e-03 -4.8091258e-03  5.5796150e-05\n",
      " -2.1375690e-03  1.6996848e-03  1.3715646e-04  1.4615123e-03\n",
      "  2.3603309e-03 -3.7319285e-03 -2.2952985e-03  4.6046604e-03\n",
      " -1.2155640e-03 -1.9862053e-03 -1.4943191e-03  3.2391038e-03\n",
      "  3.8052525e-03  4.9405680e-03 -2.3911877e-03 -6.1155023e-04\n",
      "  4.0012999e-03 -2.7747054e-03  1.8105824e-03 -1.0491704e-03\n",
      "  4.2107640e-04 -1.2750404e-03 -2.0067526e-03 -4.2194859e-03\n",
      "  4.7748368e-03  9.3478098e-04 -3.6868236e-03  1.2420627e-03\n",
      "  2.3326289e-03  4.1747107e-03 -1.6126866e-03 -4.5940280e-03\n",
      " -3.2147435e-03 -3.1216044e-03 -4.5771568e-04 -3.7710196e-03\n",
      " -6.7816157e-04 -3.3587334e-04 -9.5840247e-04  2.7565903e-03\n",
      " -4.7690957e-03  4.4885930e-03 -4.0821801e-03 -3.4737852e-03\n",
      " -4.2107701e-03 -3.7818360e-03  1.3374297e-03  1.2487322e-03\n",
      "  3.1104411e-03 -1.2451306e-03 -4.8360898e-04  2.2143994e-03\n",
      "  1.6212482e-03  4.4085244e-03 -3.9885420e-04  1.4720480e-03\n",
      " -1.2005889e-03 -1.1993248e-03 -1.7334085e-03 -1.6539325e-03\n",
      "  1.1243494e-03  3.0736681e-03  4.7121169e-03  4.3489300e-03\n",
      "  1.6694200e-03 -3.4913220e-03  3.2708251e-03 -2.5261726e-04\n",
      " -2.2316698e-03 -1.5360947e-03 -1.1589731e-04 -4.0977732e-03]\n",
      "1996 : Modi is great\n",
      "[ 1.1832076e-03  2.3971370e-03 -2.9782928e-03  6.1076443e-04\n",
      "  3.7392257e-03 -3.0522277e-03 -4.4700620e-04  4.1156192e-03\n",
      "  8.9292083e-04  3.6029359e-03  4.4173384e-03 -7.3494724e-05\n",
      " -1.4610173e-03  2.8247086e-03  2.7738893e-03 -4.2316299e-03\n",
      "  2.8147097e-03 -4.3012416e-03 -2.0292228e-04 -4.8104357e-03\n",
      "  4.9823239e-03 -4.9733152e-03 -1.2292918e-03  4.6799588e-04\n",
      "  1.4225331e-03 -3.4057784e-03 -2.3403913e-03 -3.0258014e-03\n",
      "  3.5300299e-03  4.4105616e-03 -1.4119260e-03 -3.0314769e-03\n",
      "  8.7892555e-04  3.7404075e-03 -1.8265196e-03  1.3373612e-03\n",
      " -4.5885784e-03 -3.6996612e-04 -1.5168620e-03 -1.6272436e-03\n",
      "  2.4503393e-03  4.1552125e-03 -9.1967639e-04 -3.8492829e-03\n",
      "  1.4450932e-03  4.4934317e-03  1.9128082e-03 -2.2297197e-03\n",
      "  2.0127771e-03 -4.2821118e-03  1.6719267e-03 -2.3727051e-03\n",
      " -3.8427627e-03 -3.0765166e-03  2.8110591e-03  3.0922880e-03\n",
      " -4.8736660e-03 -1.8400522e-03 -3.6089912e-03  1.0707544e-03\n",
      " -2.8520316e-04 -1.0801894e-03 -8.4558089e-04  5.2151876e-04\n",
      "  1.7335783e-03  4.5044152e-03  2.6731864e-03  3.5679683e-03\n",
      " -3.0956434e-03 -4.3136356e-03 -1.8864264e-03 -4.1759009e-03\n",
      " -1.3333069e-03  1.9013534e-03  3.3404289e-03 -3.9584870e-03\n",
      "  1.1892635e-03 -4.8290952e-03  4.7912924e-03  3.6021855e-04\n",
      "  2.8249105e-03 -3.1994830e-03 -1.8539607e-03  2.5371618e-03\n",
      " -1.7625327e-03  1.6434728e-03 -3.7090557e-03 -3.2700035e-03\n",
      "  3.2757248e-03 -1.0887434e-03 -3.2929545e-03  3.0204239e-03\n",
      " -4.1605006e-03 -3.8783795e-03 -1.9366795e-04  1.6934773e-03\n",
      "  4.0882798e-03 -4.4404869e-03 -4.2373021e-04 -2.6150469e-03]\n"
     ]
    },
    {
     "ename": "KeyError",
     "evalue": "\"tag '2' not seen in training corpus/invalid\"",
     "output_type": "error",
     "traceback": [
      "\u001b[1;31m---------------------------------------------------------------------------\u001b[0m",
      "\u001b[1;31mKeyError\u001b[0m                                  Traceback (most recent call last)",
      "\u001b[1;32m<ipython-input-131-a258ffedfb23>\u001b[0m in \u001b[0;36m<module>\u001b[1;34m()\u001b[0m\n\u001b[0;32m      1\u001b[0m \u001b[1;33m\u001b[0m\u001b[0m\n\u001b[1;32m----> 2\u001b[1;33m \u001b[1;32mfor\u001b[0m \u001b[0mnum\u001b[0m\u001b[1;33m,\u001b[0m\u001b[0mi\u001b[0m \u001b[1;32min\u001b[0m \u001b[0menumerate\u001b[0m \u001b[1;33m(\u001b[0m\u001b[0mbmodel\u001b[0m\u001b[1;33m.\u001b[0m\u001b[0mdocvecs\u001b[0m\u001b[1;33m)\u001b[0m\u001b[1;33m:\u001b[0m\u001b[1;33m\u001b[0m\u001b[0m\n\u001b[0m\u001b[0;32m      3\u001b[0m     \u001b[1;32mif\u001b[0m \u001b[0mnum\u001b[0m\u001b[1;33m<\u001b[0m\u001b[0mint\u001b[0m\u001b[1;33m(\u001b[0m\u001b[0mn\u001b[0m\u001b[1;33m)\u001b[0m\u001b[1;33m:\u001b[0m\u001b[1;33m\u001b[0m\u001b[0m\n\u001b[0;32m      4\u001b[0m         \u001b[0mprint\u001b[0m\u001b[1;33m(\u001b[0m\u001b[0mny\u001b[0m\u001b[1;33m[\u001b[0m\u001b[0mnum\u001b[0m\u001b[1;33m]\u001b[0m\u001b[1;33m,\u001b[0m\u001b[1;34m':'\u001b[0m\u001b[1;33m,\u001b[0m\u001b[0mnbs\u001b[0m\u001b[1;33m[\u001b[0m\u001b[0mnum\u001b[0m\u001b[1;33m]\u001b[0m\u001b[1;33m)\u001b[0m\u001b[1;33m\u001b[0m\u001b[0m\n\u001b[0;32m      5\u001b[0m         \u001b[0mprint\u001b[0m\u001b[1;33m(\u001b[0m\u001b[0mbmodel\u001b[0m\u001b[1;33m.\u001b[0m\u001b[0mdocvecs\u001b[0m\u001b[1;33m[\u001b[0m\u001b[0mnum\u001b[0m\u001b[1;33m]\u001b[0m\u001b[1;33m)\u001b[0m\u001b[1;33m\u001b[0m\u001b[0m\n",
      "\u001b[1;32mC:\\ProgramData\\Anaconda3\\lib\\site-packages\\gensim\\models\\keyedvectors.py\u001b[0m in \u001b[0;36m__getitem__\u001b[1;34m(self, index)\u001b[0m\n\u001b[0;32m   1527\u001b[0m                 \u001b[1;32mreturn\u001b[0m \u001b[0mself\u001b[0m\u001b[1;33m.\u001b[0m\u001b[0mvectors_docs\u001b[0m\u001b[1;33m[\u001b[0m\u001b[0mself\u001b[0m\u001b[1;33m.\u001b[0m\u001b[0m_int_index\u001b[0m\u001b[1;33m(\u001b[0m\u001b[0mindex\u001b[0m\u001b[1;33m,\u001b[0m \u001b[0mself\u001b[0m\u001b[1;33m.\u001b[0m\u001b[0mdoctags\u001b[0m\u001b[1;33m,\u001b[0m \u001b[0mself\u001b[0m\u001b[1;33m.\u001b[0m\u001b[0mmax_rawint\u001b[0m\u001b[1;33m)\u001b[0m\u001b[1;33m]\u001b[0m\u001b[1;33m\u001b[0m\u001b[0m\n\u001b[0;32m   1528\u001b[0m             \u001b[1;32mreturn\u001b[0m \u001b[0mvstack\u001b[0m\u001b[1;33m(\u001b[0m\u001b[1;33m[\u001b[0m\u001b[0mself\u001b[0m\u001b[1;33m[\u001b[0m\u001b[0mi\u001b[0m\u001b[1;33m]\u001b[0m \u001b[1;32mfor\u001b[0m \u001b[0mi\u001b[0m \u001b[1;32min\u001b[0m \u001b[0mindex\u001b[0m\u001b[1;33m]\u001b[0m\u001b[1;33m)\u001b[0m\u001b[1;33m\u001b[0m\u001b[0m\n\u001b[1;32m-> 1529\u001b[1;33m         \u001b[1;32mraise\u001b[0m \u001b[0mKeyError\u001b[0m\u001b[1;33m(\u001b[0m\u001b[1;34m\"tag '%s' not seen in training corpus/invalid\"\u001b[0m \u001b[1;33m%\u001b[0m \u001b[0mindex\u001b[0m\u001b[1;33m)\u001b[0m\u001b[1;33m\u001b[0m\u001b[0m\n\u001b[0m\u001b[0;32m   1530\u001b[0m \u001b[1;33m\u001b[0m\u001b[0m\n\u001b[0;32m   1531\u001b[0m     \u001b[1;32mdef\u001b[0m \u001b[0m__contains__\u001b[0m\u001b[1;33m(\u001b[0m\u001b[0mself\u001b[0m\u001b[1;33m,\u001b[0m \u001b[0mindex\u001b[0m\u001b[1;33m)\u001b[0m\u001b[1;33m:\u001b[0m\u001b[1;33m\u001b[0m\u001b[0m\n",
      "\u001b[1;31mKeyError\u001b[0m: \"tag '2' not seen in training corpus/invalid\""
     ]
    }
   ],
   "source": [
    "\n",
    "for num,i in enumerate (bmodel.docvecs):\n",
    "    if num<int(n):\n",
    "        print(ny[num],':',nbs[num])\n",
    "        print(bmodel.docvecs[num])"
   ]
  },
  {
   "cell_type": "code",
   "execution_count": null,
   "metadata": {},
   "outputs": [],
   "source": []
  }
 ],
 "metadata": {
  "kernelspec": {
   "display_name": "Python 3",
   "language": "python",
   "name": "python3"
  },
  "language_info": {
   "codemirror_mode": {
    "name": "ipython",
    "version": 3
   },
   "file_extension": ".py",
   "mimetype": "text/x-python",
   "name": "python",
   "nbconvert_exporter": "python",
   "pygments_lexer": "ipython3",
   "version": "3.6.5"
  }
 },
 "nbformat": 4,
 "nbformat_minor": 2
}
